{
 "cells": [
  {
   "cell_type": "code",
   "execution_count": 5,
   "metadata": {},
   "outputs": [],
   "source": [
    "import numpy as np\n",
    "import pandas as pd\n",
    "import matplotlib.pyplot as plt\n",
    "import seaborn as sns\n",
    "import os\n",
    "import sys\n",
    "from DB_connection import data_preparation as d_p, data_check as d_c, connection_db as conn"
   ]
  },
  {
   "cell_type": "code",
   "execution_count": 2,
   "metadata": {},
   "outputs": [
    {
     "name": "stdout",
     "output_type": "stream",
     "text": [
      "No additional scientist found for PG1238\n",
      "No grain size data for PG1238\n",
      "No mineral data for PG1238\n",
      "No diatom data for PG1238\n",
      "No chironomid data for PG1238\n",
      "No pollen data for PG1238\n"
     ]
    }
   ],
   "source": [
    "core = d_p.data_preparation()#filename = 'E:\\ARCLAKES-STANDARDIZED\\PG1111_raw_data.xlsx', suppress_message = True)\n",
    "core.run_data_prep()"
   ]
  },
  {
   "cell_type": "code",
   "execution_count": 3,
   "metadata": {},
   "outputs": [
    {
     "name": "stdout",
     "output_type": "stream",
     "text": [
      "The dataset has an overall completeness of 91.24\n"
     ]
    }
   ],
   "source": [
    "check = d_c.data_check(core)\n",
    "check.check_completeness()"
   ]
  },
  {
   "cell_type": "code",
   "execution_count": 6,
   "metadata": {},
   "outputs": [
    {
     "name": "stdout",
     "output_type": "stream",
     "text": [
      "What is the database name in which PG1238 should be inserted? MAYHEM-Example\n",
      "What is the password for that database? ········\n",
      "All scientist(s) added!\n",
      "New expedition added!\n",
      "New lake added!\n",
      "New core information added!\n",
      "Added new participant(s) to PG1238!\n",
      "I am done with core PG1238 for organic proxy\n",
      "I am done with core PG1238 for element proxy\n",
      "I am done with core PG1238 for age determination proxy\n"
     ]
    }
   ],
   "source": [
    "upload = conn.connection_db(core) #force_upload = True)\n",
    "upload.run_data_upload()"
   ]
  },
  {
   "cell_type": "code",
   "execution_count": null,
   "metadata": {},
   "outputs": [],
   "source": []
  }
 ],
 "metadata": {
  "kernelspec": {
   "display_name": "Python 3",
   "language": "python",
   "name": "python3"
  },
  "language_info": {
   "codemirror_mode": {
    "name": "ipython",
    "version": 3
   },
   "file_extension": ".py",
   "mimetype": "text/x-python",
   "name": "python",
   "nbconvert_exporter": "python",
   "pygments_lexer": "ipython3",
   "version": "3.7.6"
  }
 },
 "nbformat": 4,
 "nbformat_minor": 4
}
