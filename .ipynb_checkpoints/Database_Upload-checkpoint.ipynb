{
 "cells": [
  {
   "cell_type": "code",
   "execution_count": 1,
   "metadata": {},
   "outputs": [],
   "source": [
    "import numpy as np\n",
    "import pandas as pd\n",
    "import matplotlib.pyplot as plt\n",
    "import seaborn as sns\n",
    "import os\n",
    "import sys\n",
    "from src import (data_preparation as d_p, \n",
    "                 data_check as d_c, \n",
    "                 connection_db as conn)"
   ]
  },
  {
   "cell_type": "code",
   "execution_count": 2,
   "metadata": {},
   "outputs": [
    {
     "name": "stdout",
     "output_type": "stream",
     "text": [
      "No additional scientist found for PG2133\n",
      "No diatom data for PG2133\n",
      "No chironomid data for PG2133\n",
      "No pollen data for PG2133\n"
     ]
    }
   ],
   "source": [
    "core = d_p.data_preparation()#filename = 'E:\\ARCLAKES-STANDARDIZED\\PG1111_raw_data.xlsx', suppress_message = True)\n",
    "core.run_data_prep()"
   ]
  },
  {
   "cell_type": "code",
   "execution_count": 3,
   "metadata": {},
   "outputs": [
    {
     "name": "stdout",
     "output_type": "stream",
     "text": [
      "The dataset has an overall completeness of 96.65\n"
     ]
    }
   ],
   "source": [
    "check = d_c.data_check(core)\n",
    "check.check_completeness()"
   ]
  },
  {
   "cell_type": "code",
   "execution_count": 4,
   "metadata": {},
   "outputs": [
    {
     "name": "stdout",
     "output_type": "stream",
     "text": [
      "What is the database name in which PG2133 should be inserted? MAYHEM-Example\n",
      "What is the password for that database? ········\n",
      "Scientist(s) already exist!\n",
      "Expedition already exists!\n",
      "New lake added!\n",
      "New core information added!\n",
      "Added new participant(s) to PG2133!\n",
      "I am done with core PG2133 for organic proxy\n",
      "I am done with core PG2133 for grain size proxy\n",
      "I am done with core PG2133 for element proxy\n",
      "I am done with core PG2133 for mineral proxy\n",
      "I am done with core PG2133 for age determination proxy\n"
     ]
    }
   ],
   "source": [
    "upload = conn.connection_db(core) #force_upload = True)\n",
    "upload.run_data_upload()"
   ]
  },
  {
   "cell_type": "code",
   "execution_count": null,
   "metadata": {},
   "outputs": [],
   "source": []
  }
 ],
 "metadata": {
  "kernelspec": {
   "display_name": "Python 3",
   "language": "python",
   "name": "python3"
  },
  "language_info": {
   "codemirror_mode": {
    "name": "ipython",
    "version": 3
   },
   "file_extension": ".py",
   "mimetype": "text/x-python",
   "name": "python",
   "nbconvert_exporter": "python",
   "pygments_lexer": "ipython3",
   "version": "3.7.6"
  }
 },
 "nbformat": 4,
 "nbformat_minor": 4
}
