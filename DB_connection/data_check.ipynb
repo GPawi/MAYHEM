{
 "cells": [
  {
   "cell_type": "code",
   "execution_count": 2,
   "metadata": {},
   "outputs": [
    {
     "data": {
      "text/plain": [
       "'\\nAuthor: Gregor Pfalz\\ngithub: GPawi\\n'"
      ]
     },
     "execution_count": 2,
     "metadata": {},
     "output_type": "execute_result"
    }
   ],
   "source": [
    "#!/usr/bin/env python\n",
    "# -*- coding: utf-8 -*-\n",
    "\"\"\"\n",
    "Author: Gregor Pfalz\n",
    "github: GPawi\n",
    "\"\"\""
   ]
  },
  {
   "cell_type": "code",
   "execution_count": 3,
   "metadata": {},
   "outputs": [],
   "source": [
    "import numpy as np\n",
    "import pandas as pd"
   ]
  },
  {
   "cell_type": "code",
   "execution_count": 4,
   "metadata": {},
   "outputs": [],
   "source": [
    "class data_check(object):\n",
    "    def __init__(self, core):\n",
    "        self.core = core\n",
    "\n",
    "    def check_completeness(self, individual_check = False):\n",
    "        self.__individual_check = individual_check\n",
    "        core = self.core\n",
    "        self.__completeness_check = {}\n",
    "        \n",
    "        self.__completeness_check['Scienist Input'] = core._data_preparation__scientist\n",
    "        self.__completeness_check['Expedition Input'] =  core._data_preparation__expedition\n",
    "        self.__completeness_check['Lake Input'] =  core._data_preparation__lake\n",
    "        self.__completeness_check['Drilling Input'] =  core._data_preparation__drilling\n",
    "        self.__completeness_check['Source Input'] =  core._data_preparation__source\n",
    "        self.__completeness_check['Publication Input'] =  core._data_preparation__publication\n",
    "        try: self.__completeness_check['Organic Input'] =  core._data_preparation__input_organic\n",
    "        except AttributeError: pass\n",
    "        try: self.__completeness_check['Grain Size Input'] =  core._data_preparation__input_grainsize\n",
    "        except AttributeError: pass\n",
    "        try: self.__completeness_check['Element Input'] =  core._data_preparation__input_element\n",
    "        except AttributeError: pass\n",
    "        try: self.__completeness_check['Mineral Input'] =  core._data_preparation__input_mineral\n",
    "        except AttributeError: pass\n",
    "        try: self.__completeness_check['Diatom Input'] =  core._data_preparation__input_diatom\n",
    "        except AttributeError: pass\n",
    "        try: self.__completeness_check['Chironomid Input'] =  core._data_preparation__input_chironomid\n",
    "        except AttributeError: pass\n",
    "        try: self.__completeness_check['Pollen Input'] =  core._data_preparation__input_pollen\n",
    "        except AttributeError: pass\n",
    "        self.__completeness_check['Age Input'] =  core._data_preparation__input_age\n",
    "        \n",
    "        if self.__individual_check == True:\n",
    "            for name, element in self.__completeness_check.items():\n",
    "                print (f'{name} has a completeness of {(1 - element.isna().stack().mean()) * 100:.2f}%')\n",
    "        \n",
    "        else:\n",
    "            self.__overall_completeness = []\n",
    "            for element in self.__completeness_check.values():\n",
    "                self.__completeness_value = (1 - element.isna().stack().mean())\n",
    "                self.__overall_completeness.append(self.__completeness_value)\n",
    "            \n",
    "            self.__overall_completeness = (sum(self.__overall_completeness)/len(self.__completeness_check)) * 100\n",
    "            print (f'The dataset has an overall completeness of {self.__overall_completeness:.2f}')\n"
   ]
  },
  {
   "cell_type": "code",
   "execution_count": 5,
   "metadata": {},
   "outputs": [
    {
     "name": "stderr",
     "output_type": "stream",
     "text": [
      "[NbConvertApp] Converting notebook data_check.ipynb to script\n",
      "[NbConvertApp] Writing 3042 bytes to data_check.py\n"
     ]
    }
   ],
   "source": [
    "#!jupyter nbconvert --to script data_check.ipynb"
   ]
  },
  {
   "cell_type": "code",
   "execution_count": null,
   "metadata": {},
   "outputs": [],
   "source": []
  }
 ],
 "metadata": {
  "kernelspec": {
   "display_name": "Python 3",
   "language": "python",
   "name": "python3"
  },
  "language_info": {
   "codemirror_mode": {
    "name": "ipython",
    "version": 3
   },
   "file_extension": ".py",
   "mimetype": "text/x-python",
   "name": "python",
   "nbconvert_exporter": "python",
   "pygments_lexer": "ipython3",
   "version": "3.7.6"
  }
 },
 "nbformat": 4,
 "nbformat_minor": 4
}
