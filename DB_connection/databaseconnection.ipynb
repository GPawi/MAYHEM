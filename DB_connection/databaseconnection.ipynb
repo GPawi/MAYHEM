{
 "cells": [
  {
   "cell_type": "code",
   "execution_count": 1,
   "metadata": {},
   "outputs": [
    {
     "data": {
      "text/plain": [
       "'\\nAuthor: Gregor Pfalz\\ngithub: GPawi\\n'"
      ]
     },
     "execution_count": 1,
     "metadata": {},
     "output_type": "execute_result"
    }
   ],
   "source": [
    "#!/usr/bin/env python\n",
    "# -*- coding: utf-8 -*-\n",
    "\"\"\"\n",
    "Author: Gregor Pfalz\n",
    "github: GPawi\n",
    "\"\"\""
   ]
  },
  {
   "cell_type": "code",
   "execution_count": 40,
   "metadata": {},
   "outputs": [],
   "source": [
    "import numpy as np\n",
    "import pandas as pd\n",
    "import matplotlib.pyplot as plt\n",
    "import seaborn as sns\n",
    "import os\n",
    "import sys\n",
    "import sqlalchemy\n",
    "import datetime\n",
    "from sqlalchemy.exc import IntegrityError\n",
    "from xlrd import XLRDError\n",
    "from tkinter import Tk\n",
    "from tkinter.filedialog import askopenfilename"
   ]
  },
  {
   "cell_type": "code",
   "execution_count": 41,
   "metadata": {},
   "outputs": [],
   "source": [
    "class connection_db(object):\n",
    "    def __init__(self, filename = None):\n",
    "        self.sheets = {'input_main':'DatasetDescription',\n",
    "                       'input_organic':'Organic',\n",
    "                       'input_grainsize':'GrainSize',\n",
    "                       'input_element':'Element',\n",
    "                       'input_mineral':'Mineral',\n",
    "                       'input_diatom':'Diatom',\n",
    "                       'input_chironomid':'Chironomid',\n",
    "                       'input_pollen':'Pollen',\n",
    "                       'input_age':'Age'}\n",
    "        #self.dict_sheets = {}\n",
    "        if filename == None: \n",
    "            root = Tk()\n",
    "            root.withdraw()\n",
    "            root.call('wm', 'attributes', '.', '-topmost', True)\n",
    "            self.filename = askopenfilename()\n",
    "            %gui tk\n",
    "            try:\n",
    "                for i in self.sheets:\n",
    "                    self.dict_sheets[i] = pd.read_excel(self.filename, i)\n",
    "            except XLRDError:\n",
    "                pass\n",
    "        else:\n",
    "            try:\n",
    "                for i in self.sheets:\n",
    "                    self.dict_sheets[i] = pd.read_excel(self.filename, i)\n",
    "            except XLRDError:\n",
    "                pass"
   ]
  },
  {
   "cell_type": "code",
   "execution_count": 42,
   "metadata": {},
   "outputs": [],
   "source": [
    "core = connection_db()"
   ]
  },
  {
   "cell_type": "code",
   "execution_count": 56,
   "metadata": {},
   "outputs": [],
   "source": [
    "sheets = {'input_main':'DatasetDescription',\n",
    "          'input_organic':'Organic',\n",
    "          'input_grainsize':'GrainSize',\n",
    "          'input_element':'Element',\n",
    "          'input_mineral':'Mineral',\n",
    "          'input_diatom':'Diatom',\n",
    "          'input_chironomid':'Chironomid',\n",
    "          'input_pollen':'Pollen',\n",
    "          'input_age':'Age'}"
   ]
  },
  {
   "cell_type": "code",
   "execution_count": 57,
   "metadata": {},
   "outputs": [],
   "source": [
    "list(sheets.keys())[0] = 'panda'"
   ]
  },
  {
   "cell_type": "code",
   "execution_count": 59,
   "metadata": {},
   "outputs": [
    {
     "data": {
      "text/plain": [
       "'input_main'"
      ]
     },
     "execution_count": 59,
     "metadata": {},
     "output_type": "execute_result"
    }
   ],
   "source": [
    "list(sheets.keys())[0]"
   ]
  },
  {
   "cell_type": "code",
   "execution_count": null,
   "metadata": {},
   "outputs": [],
   "source": []
  }
 ],
 "metadata": {
  "kernelspec": {
   "display_name": "Python 3",
   "language": "python",
   "name": "python3"
  },
  "language_info": {
   "codemirror_mode": {
    "name": "ipython",
    "version": 3
   },
   "file_extension": ".py",
   "mimetype": "text/x-python",
   "name": "python",
   "nbconvert_exporter": "python",
   "pygments_lexer": "ipython3",
   "version": "3.7.6"
  }
 },
 "nbformat": 4,
 "nbformat_minor": 4
}
