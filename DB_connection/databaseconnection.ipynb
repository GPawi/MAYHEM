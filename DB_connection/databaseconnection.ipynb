{
 "cells": [
  {
   "cell_type": "code",
   "execution_count": 1,
   "metadata": {},
   "outputs": [
    {
     "data": {
      "text/plain": [
       "'\\nAuthor: Gregor Pfalz\\ngithub: GPawi\\n'"
      ]
     },
     "execution_count": 1,
     "metadata": {},
     "output_type": "execute_result"
    }
   ],
   "source": [
    "#!/usr/bin/env python\n",
    "# -*- coding: utf-8 -*-\n",
    "\"\"\"\n",
    "Author: Gregor Pfalz\n",
    "github: GPawi\n",
    "\"\"\""
   ]
  },
  {
   "cell_type": "code",
   "execution_count": 2,
   "metadata": {},
   "outputs": [],
   "source": [
    "import numpy as np\n",
    "import pandas as pd\n",
    "#import matplotlib.pyplot as plt\n",
    "#import seaborn as sns\n",
    "#import os\n",
    "#import sys\n",
    "import sqlalchemy\n",
    "#import datetime\n",
    "from sqlalchemy.exc import IntegrityError\n",
    "from xlrd import XLRDError\n",
    "from tkinter import Tk\n",
    "from tkinter.filedialog import askopenfilename"
   ]
  },
  {
   "cell_type": "code",
   "execution_count": 14,
   "metadata": {},
   "outputs": [],
   "source": [
    "class connection_db(object):\n",
    "    def __init__(self, filename = None):\n",
    "        #self.sheets = ['DatasetDescription',\n",
    "        #               'Organic',\n",
    "        #               'GrainSize',\n",
    "        #               'Element',\n",
    "        #               'Mineral',\n",
    "        #               'Diatom',\n",
    "        #               'Chironomid',\n",
    "        #               'Pollen',\n",
    "        #               'Age']\n",
    "        #self.proxies = ['input_main',\n",
    "        #               'input_organic',\n",
    "        #               'input_grainsize',\n",
    "        #               'input_element',\n",
    "        #               'input_mineral',\n",
    "        #               'input_diatom',\n",
    "        #               'input_chironomid',\n",
    "        #               'input_pollen',\n",
    "        #               'input_age']\n",
    "        if filename == None: \n",
    "            root = Tk()\n",
    "            root.withdraw()\n",
    "            root.call('wm', 'attributes', '.', '-topmost', True)\n",
    "            self.filename = askopenfilename()\n",
    "            %gui tk\n",
    "            xl = pd.ExcelFile(self.filename)\n",
    "            self.input_dictionary = {}\n",
    "            for sheet in xl.sheet_names:\n",
    "                self.input_dictionary[f'{sheet}']= pd.read_excel(xl,sheet_name=sheet)\n",
    "        else:\n",
    "            xl = pd.ExcelFile(self.filename)\n",
    "            self.input_dictionary = {}\n",
    "            for sheet in xl.sheet_names:\n",
    "                self.input_dictionary[f'{sheet}']= pd.read_excel(xl,sheet_name=sheet)"
   ]
  },
  {
   "cell_type": "code",
   "execution_count": 15,
   "metadata": {},
   "outputs": [],
   "source": [
    "core = connection_db()"
   ]
  },
  {
   "cell_type": "code",
   "execution_count": 22,
   "metadata": {
    "scrolled": false
   },
   "outputs": [
    {
     "data": {
      "text/plain": [
       "dict_keys(['DatasetDescription', 'Organic', 'Element', 'Diatom', 'Pollen', 'Age'])"
      ]
     },
     "execution_count": 22,
     "metadata": {},
     "output_type": "execute_result"
    }
   ],
   "source": [
    "core.input_dictionary.keys()"
   ]
  },
  {
   "cell_type": "code",
   "execution_count": null,
   "metadata": {},
   "outputs": [],
   "source": []
  }
 ],
 "metadata": {
  "kernelspec": {
   "display_name": "Python 3",
   "language": "python",
   "name": "python3"
  },
  "language_info": {
   "codemirror_mode": {
    "name": "ipython",
    "version": 3
   },
   "file_extension": ".py",
   "mimetype": "text/x-python",
   "name": "python",
   "nbconvert_exporter": "python",
   "pygments_lexer": "ipython3",
   "version": "3.7.6"
  }
 },
 "nbformat": 4,
 "nbformat_minor": 4
}
